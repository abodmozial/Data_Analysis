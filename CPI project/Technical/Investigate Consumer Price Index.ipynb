{
 "cells": [
  {
   "cell_type": "markdown",
   "metadata": {},
   "source": [
    "\n",
    "# Investigate a CPI  Dataset \n",
    "\n",
    "## Table of Contents\n",
    "<ul>\n",
    "<li><a href=\"#intro\">Introduction</a></li>\n",
    "<li><a href=\"#wrangling\">Data Wrangling</a></li>\n",
    "<li><a href=\"#eda\">Exploratory Data Analysis</a></li>\n",
    "<li><a href=\"#conclusions\">Conclusions</a></li>\n",
    "</ul>"
   ]
  },
  {
   "cell_type": "markdown",
   "metadata": {},
   "source": [
    "<a id='intro'></a>\n",
    "## Introduction\n",
    "\n",
    "> **The Consumer Price Index (CPI)** : \n",
    ">\n",
    ">is a measure of the average change over time in the prices paid by urban consumers for a market basket of consumer goods and services.\n",
    ">\n",
    "\n",
    "> **ask questions first** \n",
    ">\n",
    ">Great questions help you focus on relevant parts of your data and direct your analysis towards meaningful insights. \n",
    ">\n",
    "\n",
    ">1- Is the value of CPI in the world increasing over time or decreasing?\n",
    ">\n",
    "\n",
    ">2- Does the CPI of Saudi Arabia is higher than the average  CPI of the world over time?\n",
    ">\n",
    "\n",
    ">3- Does the Income level affect the CPI?\n",
    ">\n",
    "\n",
    ">4- In the last 20 years What are the top ten countries in terms of CPI?\n",
    ">\n",
    ">\n",
    ">\n",
    "\n",
    ">5- In the last 20 years What are the least ten countries in terms of CPI?\n",
    ">\n",
    ">\n",
    ">\n",
    "\n"
   ]
  },
  {
   "cell_type": "code",
   "execution_count": 1,
   "metadata": {},
   "outputs": [],
   "source": [
    "import pandas as pd\n",
    "import numpy as np\n",
    "from matplotlib import pyplot as plt\n",
    "import matplotlib as mpl\n",
    "%matplotlib inline"
   ]
  },
  {
   "cell_type": "markdown",
   "metadata": {},
   "source": [
    "<a id='wrangling'></a>\n",
    "### Data Wrangling\n",
    "\n",
    ">  we will load in the data, check for cleanliness, and then trim and clean our dataset for analysis.\n",
    "\n",
    "### General Properties\n",
    "\n",
    " I bring this dataset from the world bank \n",
    "> https://data.worldbank.org/indicator/FP.CPI.TOTL\n",
    ">"
   ]
  },
  {
   "cell_type": "code",
   "execution_count": 2,
   "metadata": {},
   "outputs": [
    {
     "ename": "FileNotFoundError",
     "evalue": "[Errno 2] File API_FP.CPI.TOTL.ZG_DS2_en_csv_v2_988671.csv does not exist: 'API_FP.CPI.TOTL.ZG_DS2_en_csv_v2_988671.csv'",
     "output_type": "error",
     "traceback": [
      "\u001b[0;31m---------------------------------------------------------------------------\u001b[0m",
      "\u001b[0;31mFileNotFoundError\u001b[0m                         Traceback (most recent call last)",
      "\u001b[0;32m<ipython-input-2-cb35c5bca821>\u001b[0m in \u001b[0;36m<module>\u001b[0;34m\u001b[0m\n\u001b[1;32m      1\u001b[0m \u001b[0;31m# Load data\u001b[0m\u001b[0;34m\u001b[0m\u001b[0;34m\u001b[0m\u001b[0;34m\u001b[0m\u001b[0m\n\u001b[1;32m      2\u001b[0m \u001b[0;34m\u001b[0m\u001b[0m\n\u001b[0;32m----> 3\u001b[0;31m \u001b[0mdf\u001b[0m  \u001b[0;34m=\u001b[0m \u001b[0mpd\u001b[0m\u001b[0;34m.\u001b[0m\u001b[0mread_csv\u001b[0m\u001b[0;34m(\u001b[0m\u001b[0;34m'API_FP.CPI.TOTL.ZG_DS2_en_csv_v2_988671.csv'\u001b[0m \u001b[0;34m)\u001b[0m\u001b[0;34m\u001b[0m\u001b[0;34m\u001b[0m\u001b[0m\n\u001b[0m\u001b[1;32m      4\u001b[0m \u001b[0;31m# copy data from df to df_clean\u001b[0m\u001b[0;34m\u001b[0m\u001b[0;34m\u001b[0m\u001b[0;34m\u001b[0m\u001b[0m\n\u001b[1;32m      5\u001b[0m \u001b[0mdf_clean\u001b[0m \u001b[0;34m=\u001b[0m \u001b[0mdf\u001b[0m\u001b[0;34m.\u001b[0m\u001b[0mcopy\u001b[0m\u001b[0;34m(\u001b[0m\u001b[0;34m)\u001b[0m\u001b[0;34m\u001b[0m\u001b[0;34m\u001b[0m\u001b[0m\n",
      "\u001b[0;32m~/anaconda3/lib/python3.7/site-packages/pandas/io/parsers.py\u001b[0m in \u001b[0;36mparser_f\u001b[0;34m(filepath_or_buffer, sep, delimiter, header, names, index_col, usecols, squeeze, prefix, mangle_dupe_cols, dtype, engine, converters, true_values, false_values, skipinitialspace, skiprows, skipfooter, nrows, na_values, keep_default_na, na_filter, verbose, skip_blank_lines, parse_dates, infer_datetime_format, keep_date_col, date_parser, dayfirst, cache_dates, iterator, chunksize, compression, thousands, decimal, lineterminator, quotechar, quoting, doublequote, escapechar, comment, encoding, dialect, error_bad_lines, warn_bad_lines, delim_whitespace, low_memory, memory_map, float_precision)\u001b[0m\n\u001b[1;32m    674\u001b[0m         )\n\u001b[1;32m    675\u001b[0m \u001b[0;34m\u001b[0m\u001b[0m\n\u001b[0;32m--> 676\u001b[0;31m         \u001b[0;32mreturn\u001b[0m \u001b[0m_read\u001b[0m\u001b[0;34m(\u001b[0m\u001b[0mfilepath_or_buffer\u001b[0m\u001b[0;34m,\u001b[0m \u001b[0mkwds\u001b[0m\u001b[0;34m)\u001b[0m\u001b[0;34m\u001b[0m\u001b[0;34m\u001b[0m\u001b[0m\n\u001b[0m\u001b[1;32m    677\u001b[0m \u001b[0;34m\u001b[0m\u001b[0m\n\u001b[1;32m    678\u001b[0m     \u001b[0mparser_f\u001b[0m\u001b[0;34m.\u001b[0m\u001b[0m__name__\u001b[0m \u001b[0;34m=\u001b[0m \u001b[0mname\u001b[0m\u001b[0;34m\u001b[0m\u001b[0;34m\u001b[0m\u001b[0m\n",
      "\u001b[0;32m~/anaconda3/lib/python3.7/site-packages/pandas/io/parsers.py\u001b[0m in \u001b[0;36m_read\u001b[0;34m(filepath_or_buffer, kwds)\u001b[0m\n\u001b[1;32m    446\u001b[0m \u001b[0;34m\u001b[0m\u001b[0m\n\u001b[1;32m    447\u001b[0m     \u001b[0;31m# Create the parser.\u001b[0m\u001b[0;34m\u001b[0m\u001b[0;34m\u001b[0m\u001b[0;34m\u001b[0m\u001b[0m\n\u001b[0;32m--> 448\u001b[0;31m     \u001b[0mparser\u001b[0m \u001b[0;34m=\u001b[0m \u001b[0mTextFileReader\u001b[0m\u001b[0;34m(\u001b[0m\u001b[0mfp_or_buf\u001b[0m\u001b[0;34m,\u001b[0m \u001b[0;34m**\u001b[0m\u001b[0mkwds\u001b[0m\u001b[0;34m)\u001b[0m\u001b[0;34m\u001b[0m\u001b[0;34m\u001b[0m\u001b[0m\n\u001b[0m\u001b[1;32m    449\u001b[0m \u001b[0;34m\u001b[0m\u001b[0m\n\u001b[1;32m    450\u001b[0m     \u001b[0;32mif\u001b[0m \u001b[0mchunksize\u001b[0m \u001b[0;32mor\u001b[0m \u001b[0miterator\u001b[0m\u001b[0;34m:\u001b[0m\u001b[0;34m\u001b[0m\u001b[0;34m\u001b[0m\u001b[0m\n",
      "\u001b[0;32m~/anaconda3/lib/python3.7/site-packages/pandas/io/parsers.py\u001b[0m in \u001b[0;36m__init__\u001b[0;34m(self, f, engine, **kwds)\u001b[0m\n\u001b[1;32m    878\u001b[0m             \u001b[0mself\u001b[0m\u001b[0;34m.\u001b[0m\u001b[0moptions\u001b[0m\u001b[0;34m[\u001b[0m\u001b[0;34m\"has_index_names\"\u001b[0m\u001b[0;34m]\u001b[0m \u001b[0;34m=\u001b[0m \u001b[0mkwds\u001b[0m\u001b[0;34m[\u001b[0m\u001b[0;34m\"has_index_names\"\u001b[0m\u001b[0;34m]\u001b[0m\u001b[0;34m\u001b[0m\u001b[0;34m\u001b[0m\u001b[0m\n\u001b[1;32m    879\u001b[0m \u001b[0;34m\u001b[0m\u001b[0m\n\u001b[0;32m--> 880\u001b[0;31m         \u001b[0mself\u001b[0m\u001b[0;34m.\u001b[0m\u001b[0m_make_engine\u001b[0m\u001b[0;34m(\u001b[0m\u001b[0mself\u001b[0m\u001b[0;34m.\u001b[0m\u001b[0mengine\u001b[0m\u001b[0;34m)\u001b[0m\u001b[0;34m\u001b[0m\u001b[0;34m\u001b[0m\u001b[0m\n\u001b[0m\u001b[1;32m    881\u001b[0m \u001b[0;34m\u001b[0m\u001b[0m\n\u001b[1;32m    882\u001b[0m     \u001b[0;32mdef\u001b[0m \u001b[0mclose\u001b[0m\u001b[0;34m(\u001b[0m\u001b[0mself\u001b[0m\u001b[0;34m)\u001b[0m\u001b[0;34m:\u001b[0m\u001b[0;34m\u001b[0m\u001b[0;34m\u001b[0m\u001b[0m\n",
      "\u001b[0;32m~/anaconda3/lib/python3.7/site-packages/pandas/io/parsers.py\u001b[0m in \u001b[0;36m_make_engine\u001b[0;34m(self, engine)\u001b[0m\n\u001b[1;32m   1112\u001b[0m     \u001b[0;32mdef\u001b[0m \u001b[0m_make_engine\u001b[0m\u001b[0;34m(\u001b[0m\u001b[0mself\u001b[0m\u001b[0;34m,\u001b[0m \u001b[0mengine\u001b[0m\u001b[0;34m=\u001b[0m\u001b[0;34m\"c\"\u001b[0m\u001b[0;34m)\u001b[0m\u001b[0;34m:\u001b[0m\u001b[0;34m\u001b[0m\u001b[0;34m\u001b[0m\u001b[0m\n\u001b[1;32m   1113\u001b[0m         \u001b[0;32mif\u001b[0m \u001b[0mengine\u001b[0m \u001b[0;34m==\u001b[0m \u001b[0;34m\"c\"\u001b[0m\u001b[0;34m:\u001b[0m\u001b[0;34m\u001b[0m\u001b[0;34m\u001b[0m\u001b[0m\n\u001b[0;32m-> 1114\u001b[0;31m             \u001b[0mself\u001b[0m\u001b[0;34m.\u001b[0m\u001b[0m_engine\u001b[0m \u001b[0;34m=\u001b[0m \u001b[0mCParserWrapper\u001b[0m\u001b[0;34m(\u001b[0m\u001b[0mself\u001b[0m\u001b[0;34m.\u001b[0m\u001b[0mf\u001b[0m\u001b[0;34m,\u001b[0m \u001b[0;34m**\u001b[0m\u001b[0mself\u001b[0m\u001b[0;34m.\u001b[0m\u001b[0moptions\u001b[0m\u001b[0;34m)\u001b[0m\u001b[0;34m\u001b[0m\u001b[0;34m\u001b[0m\u001b[0m\n\u001b[0m\u001b[1;32m   1115\u001b[0m         \u001b[0;32melse\u001b[0m\u001b[0;34m:\u001b[0m\u001b[0;34m\u001b[0m\u001b[0;34m\u001b[0m\u001b[0m\n\u001b[1;32m   1116\u001b[0m             \u001b[0;32mif\u001b[0m \u001b[0mengine\u001b[0m \u001b[0;34m==\u001b[0m \u001b[0;34m\"python\"\u001b[0m\u001b[0;34m:\u001b[0m\u001b[0;34m\u001b[0m\u001b[0;34m\u001b[0m\u001b[0m\n",
      "\u001b[0;32m~/anaconda3/lib/python3.7/site-packages/pandas/io/parsers.py\u001b[0m in \u001b[0;36m__init__\u001b[0;34m(self, src, **kwds)\u001b[0m\n\u001b[1;32m   1889\u001b[0m         \u001b[0mkwds\u001b[0m\u001b[0;34m[\u001b[0m\u001b[0;34m\"usecols\"\u001b[0m\u001b[0;34m]\u001b[0m \u001b[0;34m=\u001b[0m \u001b[0mself\u001b[0m\u001b[0;34m.\u001b[0m\u001b[0musecols\u001b[0m\u001b[0;34m\u001b[0m\u001b[0;34m\u001b[0m\u001b[0m\n\u001b[1;32m   1890\u001b[0m \u001b[0;34m\u001b[0m\u001b[0m\n\u001b[0;32m-> 1891\u001b[0;31m         \u001b[0mself\u001b[0m\u001b[0;34m.\u001b[0m\u001b[0m_reader\u001b[0m \u001b[0;34m=\u001b[0m \u001b[0mparsers\u001b[0m\u001b[0;34m.\u001b[0m\u001b[0mTextReader\u001b[0m\u001b[0;34m(\u001b[0m\u001b[0msrc\u001b[0m\u001b[0;34m,\u001b[0m \u001b[0;34m**\u001b[0m\u001b[0mkwds\u001b[0m\u001b[0;34m)\u001b[0m\u001b[0;34m\u001b[0m\u001b[0;34m\u001b[0m\u001b[0m\n\u001b[0m\u001b[1;32m   1892\u001b[0m         \u001b[0mself\u001b[0m\u001b[0;34m.\u001b[0m\u001b[0munnamed_cols\u001b[0m \u001b[0;34m=\u001b[0m \u001b[0mself\u001b[0m\u001b[0;34m.\u001b[0m\u001b[0m_reader\u001b[0m\u001b[0;34m.\u001b[0m\u001b[0munnamed_cols\u001b[0m\u001b[0;34m\u001b[0m\u001b[0;34m\u001b[0m\u001b[0m\n\u001b[1;32m   1893\u001b[0m \u001b[0;34m\u001b[0m\u001b[0m\n",
      "\u001b[0;32mpandas/_libs/parsers.pyx\u001b[0m in \u001b[0;36mpandas._libs.parsers.TextReader.__cinit__\u001b[0;34m()\u001b[0m\n",
      "\u001b[0;32mpandas/_libs/parsers.pyx\u001b[0m in \u001b[0;36mpandas._libs.parsers.TextReader._setup_parser_source\u001b[0;34m()\u001b[0m\n",
      "\u001b[0;31mFileNotFoundError\u001b[0m: [Errno 2] File API_FP.CPI.TOTL.ZG_DS2_en_csv_v2_988671.csv does not exist: 'API_FP.CPI.TOTL.ZG_DS2_en_csv_v2_988671.csv'"
     ]
    }
   ],
   "source": [
    "# Load data \n",
    "\n",
    "df  = pd.read_csv('API_FP.CPI.TOTL.ZG_DS2_en_csv_v2_988671.csv' )\n",
    "# copy data from df to df_clean \n",
    "df_clean = df.copy()"
   ]
  },
  {
   "cell_type": "markdown",
   "metadata": {},
   "source": [
    ">Perform operations to inspect data "
   ]
  },
  {
   "cell_type": "code",
   "execution_count": null,
   "metadata": {},
   "outputs": [],
   "source": [
    "#print out a few lines.\n",
    "df_clean.head()\n",
    "#from head command we found \n",
    "# Messy data, also known as untidy data. Untidy data has structural issues.\n",
    "# columns are not as useful as  : 1-Country Code 2- Indicator Name\tIndicator 3-Indicator Code"
   ]
  },
  {
   "cell_type": "code",
   "execution_count": null,
   "metadata": {},
   "outputs": [],
   "source": [
    "df_clean.shape\n",
    "# we have 264 rows and 64 columns "
   ]
  },
  {
   "cell_type": "code",
   "execution_count": null,
   "metadata": {},
   "outputs": [],
   "source": [
    "# check missing value and data type \n",
    "df_clean.info()\n",
    "# I noted From info command we found that there are many years that contain null values\n",
    "# no issue with data type "
   ]
  },
  {
   "cell_type": "code",
   "execution_count": null,
   "metadata": {},
   "outputs": [],
   "source": [
    "df_clean.describe()"
   ]
  },
  {
   "cell_type": "code",
   "execution_count": null,
   "metadata": {},
   "outputs": [],
   "source": [
    "# specify more years with null values\n",
    "df_clean.isnull().sum(axis=0).nlargest(40)\n",
    "# I noted most missing value from \"1960\" to \"1990\" and \"2019\" "
   ]
  },
  {
   "cell_type": "markdown",
   "metadata": {},
   "source": [
    "### Data Cleaning"
   ]
  },
  {
   "cell_type": "code",
   "execution_count": null,
   "metadata": {},
   "outputs": [],
   "source": [
    "# After discussing the structure of the data and any problems that need to be\n",
    "# I noted : \n",
    "\n",
    "# Messy data, also known as untidy data. Untidy data has structural issues.\n",
    "# Columns are not as useful as  : 1-Country Code 2- Indicator Name\tIndicator 3-Indicator Code\n",
    "\n",
    "# From info command we found that there are many years that contain null values\n",
    "# most missing value from 1960 to 1990 and 2019 "
   ]
  },
  {
   "cell_type": "code",
   "execution_count": null,
   "metadata": {},
   "outputs": [],
   "source": [
    "# drop coulmns from 1960 to 1990 and 2019 \n",
    "df_clean.drop(columns=df_clean.iloc[:,4:35] , inplace=True )\n",
    " # check of drop columns from 1960 to 1990 \n",
    "df_clean.columns.to_list()"
   ]
  },
  {
   "cell_type": "code",
   "execution_count": null,
   "metadata": {},
   "outputs": [],
   "source": [
    "# drop all copuntry without any value\n",
    "df_years = df_clean.iloc[:,4:]\n",
    "df_years_col = df_years.columns.to_list()\n",
    "df_clean.dropna(subset = df_years_col, how='all' , inplace=True)"
   ]
  },
  {
   "cell_type": "code",
   "execution_count": null,
   "metadata": {},
   "outputs": [],
   "source": [
    " # check of drop all copuntry without any value\n",
    "#number of country before deletion \"264\"\n",
    "df_clean.shape[0]\n",
    "# now 233 so 31 country without any value "
   ]
  },
  {
   "cell_type": "code",
   "execution_count": null,
   "metadata": {},
   "outputs": [],
   "source": [
    "# drop not useful columns \n",
    "df_clean.drop(columns=['Country Code','Indicator Name','Indicator Code'] , inplace=True)\n",
    "df_clean.head()"
   ]
  },
  {
   "cell_type": "code",
   "execution_count": null,
   "metadata": {},
   "outputs": [],
   "source": [
    "# Restructur DataFrame\n",
    "formatted_df = pd.melt(df_clean,\n",
    "                       [\"Country Name\"],\n",
    "                       var_name=\"year\",\n",
    "                       value_name=\"consumer prices\")\n",
    "formatted_df = formatted_df.sort_values(by=[\"Country Name\"])\n",
    "formatted_df.head(10)"
   ]
  },
  {
   "cell_type": "code",
   "execution_count": null,
   "metadata": {},
   "outputs": [],
   "source": [
    "df_clean.describe()"
   ]
  },
  {
   "cell_type": "code",
   "execution_count": null,
   "metadata": {},
   "outputs": [],
   "source": [
    "# sorting dataFrame\n",
    "df_clean = formatted_df.sort_values(['Country Name', 'year'], ascending=True )\n",
    "df_clean"
   ]
  },
  {
   "cell_type": "code",
   "execution_count": null,
   "metadata": {},
   "outputs": [],
   "source": [
    "# rest index\n",
    "df_clean.reset_index(drop=True , inplace=True)\n",
    "df_clean"
   ]
  },
  {
   "cell_type": "code",
   "execution_count": null,
   "metadata": {},
   "outputs": [],
   "source": [
    "# renamed columns to be lower cased and have spaces represented by an underscore \n",
    "df_clean.columns = [i.replace(' ', '_').lower() for i in df_clean.columns]"
   ]
  },
  {
   "cell_type": "code",
   "execution_count": null,
   "metadata": {},
   "outputs": [],
   "source": [
    "df_clean.country_name.unique().tolist()\n",
    "\n",
    "# from this list I found the most useful for us  = \n",
    "\n",
    "#Saudi Arabia\n",
    "#world\n",
    "#High income\n",
    "#Middle income\n",
    "#Low income"
   ]
  },
  {
   "cell_type": "code",
   "execution_count": null,
   "metadata": {},
   "outputs": [],
   "source": [
    "# ckeck data type  and null values\n",
    "df_clean.info()\n",
    "# we need conver year to datatime type "
   ]
  },
  {
   "cell_type": "code",
   "execution_count": null,
   "metadata": {},
   "outputs": [],
   "source": [
    "#conver year to datatime type \n",
    "df_clean.year = pd.to_datetime(df_clean.year, format='%Y' )"
   ]
  },
  {
   "cell_type": "code",
   "execution_count": null,
   "metadata": {},
   "outputs": [],
   "source": [
    "# fill null values with mean of the consumer_prices for each country \n",
    "df_clean['consumer_prices'] = df_clean['consumer_prices'].fillna(df_clean.groupby('country_name')['consumer_prices'].transform('mean'))"
   ]
  },
  {
   "cell_type": "code",
   "execution_count": null,
   "metadata": {},
   "outputs": [],
   "source": [
    "df_clean"
   ]
  },
  {
   "cell_type": "markdown",
   "metadata": {},
   "source": [
    "<a id='eda'></a>\n",
    "## Exploratory Data Analysis\n",
    "\n",
    ">  After cleaned our data, we're ready to move on to exploration.\n"
   ]
  },
  {
   "cell_type": "markdown",
   "metadata": {},
   "source": [
    "#### Q 1 : Is the value of CPI in the world increasing over time or decreasing?"
   ]
  },
  {
   "cell_type": "code",
   "execution_count": null,
   "metadata": {},
   "outputs": [],
   "source": [
    "#world\n",
    "list_of_year = (pd.DatetimeIndex(df_clean['year']).year).unique()\n",
    "world = df_clean['consumer_prices'].loc[df_clean.country_name == 'World']\n",
    "\n",
    "\n",
    "plt.figure(figsize=(20,10))\n",
    "plt.title('Consumer Price Index (CPI) over Time of the world ', fontdict={'fontweight':'bold', 'fontsize': 25})\n",
    "\n",
    "plt.plot(list_of_year, world, 'b.-', label='World')\n",
    "\n",
    "plt.xticks(list_of_year)\n",
    "plt.xlabel('Year' , fontsize =  25)\n",
    "plt.ylabel('consumer prices (annual %)' ,fontsize =  25)\n",
    "plt.legend()\n",
    "\n",
    "plt.show()"
   ]
  },
  {
   "cell_type": "markdown",
   "metadata": {},
   "source": [
    "###### Answer  Q 1 : Is the value of CPI in the world increasing over time or decreasing?\n",
    ">The value of CPI from thirty years is **Decreasing**, except in 2008 there was an unusual change, and after research on the most important events that happened to the world in 2007-2008 i think the main reason for this change  is **financial crisis**"
   ]
  },
  {
   "cell_type": "markdown",
   "metadata": {},
   "source": [
    "\n",
    "\n",
    ">What happened during the financial crisis?\n",
    ">\n",
    ">Referred to as the worst economic disaster since the Great Depression, the 2008 financial crisis devastated the world economy. This resulted in what's known as the Great Recession, which led to falling housing prices and sharp increases in unemployment. The associated repercussions were enormous, and are still influencing financial systems today. \n",
    "In the US, more than eight million citizens lost their jobs, approximately 2.5 million businesses were devastated, and close to four million homes were foreclosed in less than two years. From food insecurity to income inequality, many have lost faith in the system.\n",
    "The recession officially ended in 2009, but many continued to suffer long after it, especially in the US. The unemployment rate reached 10% in 2009 and was only recovered to pre-crisis levels in 2016.>\n",
    "\n",
    " sourse : https://www.binance.vision/economics/the-2008-financial-crisis-explained"
   ]
  },
  {
   "cell_type": "markdown",
   "metadata": {},
   "source": [
    "#### Q 2 : Does the CPI of Saudi Arabia is higher than the average  CPI of the world over time?"
   ]
  },
  {
   "cell_type": "code",
   "execution_count": null,
   "metadata": {},
   "outputs": [],
   "source": [
    "#Saudi Arabia\n",
    "#world\n",
    "saudi_arabia = df_clean['consumer_prices'].loc[df_clean.country_name == 'Saudi Arabia']\n",
    "\n",
    "plt.figure(figsize=(20,10))\n",
    "plt.title('Consumer Price Index (CPI) over Time ',fontdict={'fontweight':'bold', 'fontsize': 25})\n",
    "\n",
    "plt.plot(list_of_year, saudi_arabia, 'g.-', label='Saudi Arabia')\n",
    "plt.plot(list_of_year, world, 'b.-', label='World')\n",
    "\n",
    "\n",
    "plt.xticks(list_of_year)\n",
    "plt.xlabel('Year' , fontsize =  25)\n",
    "plt.ylabel('consumer prices (annual %)' ,fontsize =  25)\n",
    "plt.legend()\n",
    "\n",
    "plt.show()"
   ]
  },
  {
   "cell_type": "markdown",
   "metadata": {},
   "source": [
    "###### Answer  Q 2 : Does the CPI of Saudi Arabia is higher than the average CPI of the world over time?\n",
    ">The saudi arabia from 1990 to 2008 was less than the world, but after 2008 became almost closely with the world \n",
    "\n"
   ]
  },
  {
   "cell_type": "markdown",
   "metadata": {},
   "source": [
    "#### Q 3 :Does the Income level affect the CPI?"
   ]
  },
  {
   "cell_type": "code",
   "execution_count": null,
   "metadata": {
    "scrolled": true
   },
   "outputs": [],
   "source": [
    "# INCOME : \n",
    "#High income\n",
    "#Middle income\n",
    "#Low income\n",
    "high_income = df_clean['consumer_prices'].loc[df_clean.country_name == 'High income']\n",
    "middle_income = df_clean['consumer_prices'].loc[df_clean.country_name == 'Middle income']\n",
    "low_income = df_clean['consumer_prices'].loc[df_clean.country_name == 'Low income']\n",
    "\n",
    "plt.figure(figsize=(20,10))\n",
    "plt.title('Consumer Price Index (CPI) over Time ',fontdict={'fontweight':'bold', 'fontsize': 25})\n",
    "\n",
    "\n",
    "plt.plot(list_of_year, high_income, 'r.-', label='High income')\n",
    "plt.plot(list_of_year, middle_income, 'b.-', label='Middle income')\n",
    "plt.plot(list_of_year, low_income, 'y.-' , label='Low income')\n",
    "\n",
    "plt.xticks(list_of_year)\n",
    "\n",
    "plt.xlabel('Year' , fontsize =  25)\n",
    "plt.ylabel('consumer prices (annual %)' ,fontsize =  25)\n",
    "plt.legend()\n",
    "\n",
    "plt.show()\n"
   ]
  },
  {
   "cell_type": "markdown",
   "metadata": {},
   "source": [
    "###### Answer  Q 3 : Does the Income level affect the CPI?\n",
    "\n",
    ">Income : Net profit, or money that remains after expenses are subtracted from revenue.\n",
    ">\n",
    ">Revenue :Proceeds from the sales of products and services to customers, as well as other activities like investment.\n",
    ">\n",
    "\n",
    "\n",
    ">whenever higher the level of income then CPI decreasing and become more stable\n",
    ">\n",
    ">1- High income , low CPI\n",
    ">\n",
    ">2- Middle income , Moderate CPI\n",
    ">\n",
    ">3- Low income , Hight CPI\n",
    ">\n",
    ">\n",
    "https://www.diffen.com/difference/Income_vs_Revenue"
   ]
  },
  {
   "cell_type": "markdown",
   "metadata": {},
   "source": [
    "#### Q 4 :What are the top ten countries in terms of CPI?"
   ]
  },
  {
   "cell_type": "code",
   "execution_count": null,
   "metadata": {},
   "outputs": [],
   "source": [
    "largest = df_clean.groupby('country_name')['consumer_prices'].mean().nlargest(10)\n",
    "largest_value = largest.to_list()\n",
    "largest_index = largest.index.to_list()\n",
    "largest_value.reverse()\n",
    "largest_index.reverse()"
   ]
  },
  {
   "cell_type": "code",
   "execution_count": null,
   "metadata": {},
   "outputs": [],
   "source": [
    "largest_value"
   ]
  },
  {
   "cell_type": "code",
   "execution_count": null,
   "metadata": {
    "scrolled": true
   },
   "outputs": [],
   "source": [
    "import matplotlib.pyplot as plt; plt.rcdefaults()\n",
    "import numpy as np\n",
    "import matplotlib.pyplot as plt\n",
    "\n",
    "values = largest_value\n",
    "y_pos = np.arange(len(values))\n",
    "index = largest_index\n",
    "\n",
    "\n",
    "plt.bar(y_pos, index, align='center', alpha=0.5)\n",
    "plt.xticks(y_pos)\n",
    "plt.ylabel('Country')\n",
    "plt.title('Highest countries')\n",
    "\n",
    "plt.show()"
   ]
  },
  {
   "cell_type": "markdown",
   "metadata": {},
   "source": [
    "###### Answer  Q 4: What are the top ten countries in terms of CPI?\n",
    ">1. CONGO  DEM. REP\n",
    ">2. ANGOLA\n",
    "3. UKRAINE\n",
    "4. BRAZIL\n",
    "5. BELARUS\n",
    "6. ARMENIA\n",
    "7. MOLDOVA\n",
    "8. AZERBAIJA\n",
    "9. KAZAKHSTAN\n",
    "10. CROATIA\n",
    "\n"
   ]
  },
  {
   "cell_type": "markdown",
   "metadata": {},
   "source": [
    "#### Q 5 :What are the least ten countries in terms of CPI?"
   ]
  },
  {
   "cell_type": "code",
   "execution_count": null,
   "metadata": {},
   "outputs": [],
   "source": [
    "smallest = df_clean.groupby('country_name')['consumer_prices'].mean().nsmallest(10)\n",
    "smallest_value = smallest.to_list()\n",
    "smallest_index = smallest.index.to_list()\n",
    "smallest_value.reverse()\n",
    "smallest_index.reverse()"
   ]
  },
  {
   "cell_type": "code",
   "execution_count": null,
   "metadata": {},
   "outputs": [],
   "source": [
    "import matplotlib.pyplot as plt; plt.rcdefaults()\n",
    "import numpy as np\n",
    "import matplotlib.pyplot as plt\n",
    "\n",
    "values = smallest_value\n",
    "y_pos = np.arange(len(values))\n",
    "index = smallest_index\n",
    "\n",
    "\n",
    "plt.bar(y_pos, index, align='center', alpha=0.5)\n",
    "plt.xticks(y_pos)\n",
    "plt.ylabel('Country')\n",
    "plt.title('least countries')\n",
    "\n",
    "plt.show()"
   ]
  },
  {
   "cell_type": "markdown",
   "metadata": {},
   "source": [
    "###### Answer  Q 5: What are the least ten countries in terms of CPI?\n",
    ">1.\tJAPAN\n",
    "2.\tCAYMAN ISLANDS\n",
    "3.\tBRUNEI DARUSSALAM\n",
    "4.\tSWITZERLAND\n",
    "5.\tZIMBABWE \n",
    "6.\tNEW CALEDONIA\n",
    "7.\tBAHRAIN\n",
    "8.\tFRANCE\n",
    "9.\tBOSNIA AND HERZEGOVINA\n",
    "10.\tFINLAND\n",
    "\n",
    "\n"
   ]
  },
  {
   "cell_type": "code",
   "execution_count": null,
   "metadata": {},
   "outputs": [],
   "source": [
    "df_clean.to_excel('CPI_Dataset.xlsx')"
   ]
  }
 ],
 "metadata": {
  "kernelspec": {
   "display_name": "Python 3",
   "language": "python",
   "name": "python3"
  },
  "language_info": {
   "codemirror_mode": {
    "name": "ipython",
    "version": 3
   },
   "file_extension": ".py",
   "mimetype": "text/x-python",
   "name": "python",
   "nbconvert_exporter": "python",
   "pygments_lexer": "ipython3",
   "version": "3.7.1"
  }
 },
 "nbformat": 4,
 "nbformat_minor": 4
}
